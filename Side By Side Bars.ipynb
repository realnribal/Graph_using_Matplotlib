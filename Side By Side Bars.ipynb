{
 "cells": [
  {
   "cell_type": "markdown",
   "metadata": {},
   "source": [
    "# Follwing data and function needed for this part"
   ]
  },
  {
   "cell_type": "code",
   "execution_count": 1,
   "metadata": {},
   "outputs": [],
   "source": [
    "from matplotlib import pyplot as plt\n",
    "\n",
    "unit_topics = ['Limits', 'Derivatives', 'Integrals', 'Diff Eq', 'Applications']\n",
    "middle_school_a = [80, 85, 84, 83, 86]\n",
    "middle_school_b = [73, 78, 77, 82, 86]\n",
    "\n",
    "def create_x(t, w, n, d):\n",
    "    return [t*x + w*n for x in range(d)]\n"
   ]
  },
  {
   "cell_type": "markdown",
   "metadata": {},
   "source": [
    "Let's create school_a_x and school_b_y using create_x"
   ]
  },
  {
   "cell_type": "code",
   "execution_count": 4,
   "metadata": {},
   "outputs": [
    {
     "name": "stdout",
     "output_type": "stream",
     "text": [
      "school_a_x = [0.8, 2.8, 4.8, 6.8, 8.8]\n"
     ]
    }
   ],
   "source": [
    "#For school_a_x we have \n",
    "t = 2 # There are two sets of data: A and B\n",
    "w = 0.8 # We generally want bars to be 0.8\n",
    "n = 1 # A is first set of data\n",
    "d = 5 # There are 5 topics we're plotting\n",
    "school_a_x = create_x(t, w, n, d)\n",
    "print(\"school_a_x = \" + str(school_a_x))"
   ]
  },
  {
   "cell_type": "code",
   "execution_count": 5,
   "metadata": {},
   "outputs": [
    {
     "name": "stdout",
     "output_type": "stream",
     "text": [
      "[1.6, 3.6, 5.6, 7.6, 9.6]\n"
     ]
    }
   ],
   "source": [
    "#For school_a_x we have \n",
    "t = 2 # There are two sets of data: A and B\n",
    "w = 0.8 # We generally want bars to be 0.8\n",
    "n = 2 # A is first set of data\n",
    "d = 5 # There are 5 topics we're plotting\n",
    "school_b_x = create_x(t, w, n, d)\n",
    "print(school_b_x)"
   ]
  },
  {
   "cell_type": "code",
   "execution_count": 6,
   "metadata": {},
   "outputs": [],
   "source": [
    "#create a figure of width 10 and height 8\n",
    "\n",
    "plt.figure(figsize=(10,8));"
   ]
  },
  {
   "cell_type": "code",
   "execution_count": 26,
   "metadata": {},
   "outputs": [
    {
     "data": {
      "image/png": "[encoded data removed]",
      "text/plain": [
       "<Figure size 432x288 with 1 Axes>"
      ]
     },
     "metadata": {
      "needs_background": "light"
     },
     "output_type": "display_data"
    }
   ],
   "source": [
    "#create a set of axes and save it in ax\n",
    "\n",
    "ax = plt.subplot();\n",
    "\n",
    "#plot a set of bars\n",
    "plt.bar( school_a_x, middle_school_a, label=\"Middle School A\")\n",
    "plt.bar(school_b_x, middle_school_b, label=\"Middle School B\")\n",
    "\n",
    "#middle_x, which are the values in the middle of school_a_x and school_b_x\n",
    "middle_x = [(x + y)/2.0 for x, y in zip(school_a_x, school_b_x)]\n",
    "\n",
    "#Set the x-ticks to be the middle_x list.\n",
    "ax.set_xticks(middle_x)\n",
    "\n",
    "#Set the x-tick labels to be the list unit_topics.\n",
    "ax.set_xticklabels(unit_topics)\n",
    "\n",
    "#set legend\n",
    "#plt.legend([\"Middle School A\", \"Middle School B\"])\n",
    "ax.legend(loc='best')\n",
    "\n",
    "#create figure title\n",
    "ax.set_title(\"Test Averages on Different Units\")\n",
    "\n",
    "#y-axis label\n",
    "ax.set_ylabel('Test Average')\n",
    "\n",
    "#x-axis label\n",
    "ax.set_xlabel('Unit')\n",
    "\n",
    "\n",
    "#save figure\n",
    "plt.savefig(\"my_side_by_side.png\")"
   ]
  },
  {
   "cell_type": "code",
   "execution_count": null,
   "metadata": {},
   "outputs": [],
   "source": []
  }
 ],
 "metadata": {
  "kernelspec": {
   "display_name": "Python 3",
   "language": "python",
   "name": "python3"
  },
  "language_info": {
   "codemirror_mode": {
    "name": "ipython",
    "version": 3
   },
   "file_extension": ".py",
   "mimetype": "text/x-python",
   "name": "python",
   "nbconvert_exporter": "python",
   "pygments_lexer": "ipython3",
   "version": "3.7.6"
  }
 },
 "nbformat": 4,
 "nbformat_minor": 4
}
