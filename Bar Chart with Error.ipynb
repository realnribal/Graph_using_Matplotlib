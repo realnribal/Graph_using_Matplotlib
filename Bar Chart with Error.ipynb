{
 "cells": [
  {
   "cell_type": "code",
   "execution_count": 1,
   "metadata": {},
   "outputs": [],
   "source": [
    "from matplotlib import pyplot as plt"
   ]
  },
  {
   "cell_type": "markdown",
   "metadata": {},
   "source": [
    "# Bar Chart with Error"
   ]
  },
  {
   "cell_type": "markdown",
   "metadata": {},
   "source": [
    "These are the datas we are going to work on :\\\n",
    "`past_years_averages = [82, 84, 83, 86, 74, 84, 90]`\\\n",
    "`years = [2000, 2001, 2002, 2003, 2004, 2005, 2006]`\\\n",
    "`error = [1.5, 2.1, 1.2, 3.2, 2.3, 1.7, 2.4]`"
   ]
  },
  {
   "cell_type": "code",
   "execution_count": 2,
   "metadata": {},
   "outputs": [],
   "source": [
    "past_years_averages = [82, 84, 83, 86, 74, 84, 90]\n",
    "years = [2000, 2001, 2002, 2003, 2004, 2005, 2006]\n",
    "error = [1.5, 2.1, 1.2, 3.2, 2.3, 1.7, 2.4]"
   ]
  },
  {
   "cell_type": "markdown",
   "metadata": {},
   "source": [
    "1. Let's create a figure of with 10 and heigth 8"
   ]
  },
  {
   "cell_type": "code",
   "execution_count": 24,
   "metadata": {},
   "outputs": [
    {
     "data": {
      "image/png": "[encoded data removed]",
      "text/plain": [
       "<Figure size 720x576 with 1 Axes>"
      ]
     },
     "metadata": {
      "needs_background": "light"
     },
     "output_type": "display_data"
    }
   ],
   "source": [
    "#Create a figure of width 10 and height 8\n",
    "plt.figure(figsize=(10,8))\n",
    "\n",
    "#create an ax object using subplot\n",
    "ax = plt.subplot()\n",
    "\n",
    "#Let's plot blue bars which have the heights listed past_years_averages, with error bars of cap size  5\n",
    "plt.bar(range(len(past_years_averages)), past_years_averages, yerr=error, capsize=5)\n",
    "\n",
    "#Set the axis to go from -0.5 to 6.5 on the x-axis and 70 to 95 on the y-axis.\n",
    "plt.axis([-0.5, 6.5, 70, 95])\n",
    "\n",
    "\n",
    "#let's set the x-axis to \n",
    "ax.set_xticks(range(len(years)))\n",
    "ax.set_xticklabels(years)\n",
    "\n",
    "#x-axis label\n",
    "plt.xlabel(\"Year\")\n",
    "\n",
    "#y-axis label\n",
    "plt.ylabel(\"Test Average\")\n",
    "\n",
    "#Add title\n",
    "plt.title(\"Final Exam Averages\")\n",
    "\n",
    "#save figure\n",
    "plt.savefig(\"my_bar_chart.png\")\n",
    "\n",
    "plt.show()\n",
    "\n"
   ]
  },
  {
   "cell_type": "markdown",
   "metadata": {},
   "source": [
    "# Side By Side Bars"
   ]
  },
  {
   "cell_type": "code",
   "execution_count": null,
   "metadata": {},
   "outputs": [],
   "source": []
  }
 ],
 "metadata": {
  "kernelspec": {
   "display_name": "Python 3",
   "language": "python",
   "name": "python3"
  },
  "language_info": {
   "codemirror_mode": {
    "name": "ipython",
    "version": 3
   },
   "file_extension": ".py",
   "mimetype": "text/x-python",
   "name": "python",
   "nbconvert_exporter": "python",
   "pygments_lexer": "ipython3",
   "version": "3.7.6"
  }
 },
 "nbformat": 4,
 "nbformat_minor": 4
}
