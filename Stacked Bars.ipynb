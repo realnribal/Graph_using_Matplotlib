{
 "cells": [
  {
   "cell_type": "markdown",
   "metadata": {},
   "source": [
    "We have the following data"
   ]
  },
  {
   "cell_type": "code",
   "execution_count": 22,
   "metadata": {},
   "outputs": [],
   "source": [
    "from matplotlib import pyplot as plt\n",
    "\n",
    "#import numpy\n",
    "import numpy as np\n",
    "\n",
    "unit_topics = ['Limits', 'Derivatives', 'Integrals', 'Diff Eq', 'Applications']\n",
    "As = [6, 3, 4, 3, 5]\n",
    "Bs = [8, 12, 8, 9, 10]\n",
    "Cs = [13, 12, 15, 13, 14]\n",
    "Ds = [2, 3, 3, 2, 1]\n",
    "Fs = [1, 0, 0, 3, 0]\n",
    "\n",
    "x = range(5)\n",
    "\n",
    "#The bottom of Cs bar will be at the height of the As plus Bs\n",
    "c_bottom = np.add(As, Bs)"
   ]
  },
  {
   "cell_type": "markdown",
   "metadata": {},
   "source": [
    "1. let's define `d_bottom` and `f_bottom`. "
   ]
  },
  {
   "cell_type": "code",
   "execution_count": 23,
   "metadata": {},
   "outputs": [],
   "source": [
    "d_bottom = np.add(c_bottom, Cs)\n",
    "f_bottom = np.add(d_bottom, Ds)"
   ]
  },
  {
   "cell_type": "markdown",
   "metadata": {},
   "source": [
    "2. Create figure of widht 10 and heigt 8"
   ]
  },
  {
   "cell_type": "code",
   "execution_count": 24,
   "metadata": {},
   "outputs": [
    {
     "data": {
      "image/png": "[encoded data removed]",
      "text/plain": [
       "<Figure size 720x576 with 1 Axes>"
      ]
     },
     "metadata": {
      "needs_background": "light"
     },
     "output_type": "display_data"
    }
   ],
   "source": [
    "#Create figure of width 10 and height 8\n",
    "plt.figure(figsize=(10,8))\n",
    "#create a set of axes\n",
    "ax = plt.subplot()\n",
    "plt.bar(x, As)\n",
    "plt.bar(x, Bs, bottom=As)\n",
    "plt.bar(x, Cs, bottom=c_bottom)\n",
    "plt.bar(x, Ds, bottom=d_bottom)\n",
    "plt.bar(x, Fs, bottom=f_bottom)\n",
    "\n",
    "#Set the x-ticks to be\n",
    "ax.set_xticks(range(len(unit_topics)))\n",
    "\n",
    "#Set the x-tick labels\n",
    "ax.set_xticklabels(unit_topics)\n",
    "\n",
    "#Set the title to \"Grade distribution\"\n",
    "plt.title(\"Grade distribution\")\n",
    "\n",
    "#Set x labels to \"Units\"\n",
    "plt.xlabel('Units')\n",
    "\n",
    "#Set y labels to \"Number of Students\"\n",
    "plt.ylabel('Number of Students')\n",
    "\n",
    "#Save the figure\n",
    "plt.savefig('my_stacked_bar.png')\n",
    "\n",
    "#Show the plot\n",
    "plt.show()"
   ]
  },
  {
   "cell_type": "code",
   "execution_count": null,
   "metadata": {},
   "outputs": [],
   "source": []
  }
 ],
 "metadata": {
  "kernelspec": {
   "display_name": "Python 3",
   "language": "python",
   "name": "python3"
  },
  "language_info": {
   "codemirror_mode": {
    "name": "ipython",
    "version": 3
   },
   "file_extension": ".py",
   "mimetype": "text/x-python",
   "name": "python",
   "nbconvert_exporter": "python",
   "pygments_lexer": "ipython3",
   "version": "3.7.6"
  }
 },
 "nbformat": 4,
 "nbformat_minor": 4
}
